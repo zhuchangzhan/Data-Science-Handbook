{
 "cells": [
  {
   "cell_type": "code",
   "execution_count": 3,
   "metadata": {},
   "outputs": [],
   "source": [
    "import os\n",
    "os.environ['TF_CPP_MIN_LOG_LEVEL'] = '2'\n",
    "\n",
    "import tensorflow as tf\n",
    "from tensorflow import keras # official high level api, goto for tensorflow NN\n",
    "from tensorflow.keras import layers\n",
    "from tensorflow.keras.datasets import mnist"
   ]
  },
  {
   "cell_type": "code",
   "execution_count": 8,
   "metadata": {},
   "outputs": [
    {
     "name": "stdout",
     "output_type": "stream",
     "text": [
      "(60000, 28, 28)\n",
      "(60000, 784)\n"
     ]
    }
   ],
   "source": [
    "(x_train,y_train),(x_test,y_test) = mnist.load_data()\n",
    "print(x_train.shape)\n",
    "\n",
    "# flatten and normalize the data to 0-1\n",
    "x_train = x_train.reshape(-1,28*28).astype(\"float32\")/255.0 # numpy array\n",
    "x_test = x_test.reshape(-1,28*28).astype(\"float32\")/255.0 \n",
    "\n",
    "print(x_train.shape)"
   ]
  },
  {
   "cell_type": "code",
   "execution_count": 14,
   "metadata": {},
   "outputs": [
    {
     "name": "stdout",
     "output_type": "stream",
     "text": [
      "Model: \"sequential_4\"\n",
      "_________________________________________________________________\n",
      "Layer (type)                 Output Shape              Param #   \n",
      "=================================================================\n",
      "dense_12 (Dense)             (None, 512)               401920    \n",
      "_________________________________________________________________\n",
      "dense_13 (Dense)             (None, 256)               131328    \n",
      "_________________________________________________________________\n",
      "dense_14 (Dense)             (None, 10)                2570      \n",
      "=================================================================\n",
      "Total params: 535,818\n",
      "Trainable params: 535,818\n",
      "Non-trainable params: 0\n",
      "_________________________________________________________________\n",
      "None\n",
      "Epoch 1/5\n",
      "1875/1875 - 4s - loss: 0.1859 - accuracy: 0.9435\n",
      "Epoch 2/5\n",
      "1875/1875 - 4s - loss: 0.0808 - accuracy: 0.9752\n",
      "Epoch 3/5\n",
      "1875/1875 - 4s - loss: 0.0549 - accuracy: 0.9826\n",
      "Epoch 4/5\n",
      "1875/1875 - 4s - loss: 0.0407 - accuracy: 0.9864\n",
      "Epoch 5/5\n",
      "1875/1875 - 4s - loss: 0.0318 - accuracy: 0.9895\n",
      "313/313 - 0s - loss: 0.0782 - accuracy: 0.9780\n"
     ]
    },
    {
     "data": {
      "text/plain": [
       "[0.07815806567668915, 0.9779999852180481]"
      ]
     },
     "execution_count": 14,
     "metadata": {},
     "output_type": "execute_result"
    }
   ],
   "source": [
    "# Sequential API (Very convenient, not flexible) one input to one output\n",
    "\n",
    "model = keras.Sequential(\n",
    "    [\n",
    "        keras.Input(shape=(28*28)), # let you do summary before fit\n",
    "        layers.Dense(512,activation='relu'),\n",
    "        layers.Dense(256,activation='relu'),\n",
    "        layers.Dense(10),\n",
    "        \n",
    "    ]\n",
    ")\n",
    "\n",
    "print(model.summary())\n",
    "\n",
    "model.compile(\n",
    "    loss=keras.losses.SparseCategoricalCrossentropy(from_logits=True), \n",
    "    optimizer=keras.optimizers.Adam(lr=0.001),\n",
    "    metrics=[\"accuracy\"],\n",
    ")\n",
    "\n",
    "model.fit(x_train,y_train,batch_size=32, epochs=5,verbose=2)\n",
    "model.evaluate(x_test,y_test,batch_size=32,verbose=2)\n",
    "\n",
    "\n"
   ]
  },
  {
   "cell_type": "code",
   "execution_count": 16,
   "metadata": {},
   "outputs": [
    {
     "name": "stdout",
     "output_type": "stream",
     "text": [
      "Model: \"sequential_6\"\n",
      "_________________________________________________________________\n",
      "Layer (type)                 Output Shape              Param #   \n",
      "=================================================================\n",
      "dense_17 (Dense)             (None, 512)               401920    \n",
      "_________________________________________________________________\n",
      "my_layer (Dense)             (None, 256)               131328    \n",
      "_________________________________________________________________\n",
      "dense_18 (Dense)             (None, 10)                2570      \n",
      "=================================================================\n",
      "Total params: 535,818\n",
      "Trainable params: 535,818\n",
      "Non-trainable params: 0\n",
      "_________________________________________________________________\n",
      "None\n",
      "Epoch 1/5\n",
      "1875/1875 - 5s - loss: 0.1858 - accuracy: 0.9436\n",
      "Epoch 2/5\n",
      "1875/1875 - 4s - loss: 0.0797 - accuracy: 0.9749\n",
      "Epoch 3/5\n",
      "1875/1875 - 4s - loss: 0.0536 - accuracy: 0.9831\n",
      "Epoch 4/5\n",
      "1875/1875 - 4s - loss: 0.0401 - accuracy: 0.9873\n",
      "Epoch 5/5\n",
      "1875/1875 - 4s - loss: 0.0351 - accuracy: 0.9890\n",
      "313/313 - 0s - loss: 0.0696 - accuracy: 0.9795\n"
     ]
    },
    {
     "data": {
      "text/plain": [
       "[0.0696335956454277, 0.9794999957084656]"
      ]
     },
     "execution_count": 16,
     "metadata": {},
     "output_type": "execute_result"
    }
   ],
   "source": [
    "# alterntive way to setup the model that is more flexible for debugging\n",
    "# use sequential if you can\n",
    "\n",
    "model = keras.Sequential()\n",
    "model.add(keras.Input(shape=(784)))\n",
    "model.add(layers.Dense(512, activation=\"relu\"))\n",
    "model.add(layers.Dense(256, activation=\"relu\", name=\"my_layer\"))\n",
    "model.add(layers.Dense(10))\n",
    "\n",
    "print(model.summary())\n",
    "\n",
    "model.compile(\n",
    "    loss=keras.losses.SparseCategoricalCrossentropy(from_logits=True), \n",
    "    optimizer=keras.optimizers.Adam(lr=0.001),\n",
    "    metrics=[\"accuracy\"],\n",
    ")\n",
    "\n",
    "model.fit(x_train,y_train,batch_size=32, epochs=5,verbose=2)\n",
    "model.evaluate(x_test,y_test,batch_size=32,verbose=2)\n"
   ]
  },
  {
   "cell_type": "code",
   "execution_count": 19,
   "metadata": {},
   "outputs": [
    {
     "name": "stdout",
     "output_type": "stream",
     "text": [
      "Epoch 1/5\n",
      "1875/1875 - 5s - loss: 0.1837 - accuracy: 0.9449\n",
      "Epoch 2/5\n",
      "1875/1875 - 5s - loss: 0.0796 - accuracy: 0.9755\n",
      "Epoch 3/5\n",
      "1875/1875 - 5s - loss: 0.0559 - accuracy: 0.9826\n",
      "Epoch 4/5\n",
      "1875/1875 - 5s - loss: 0.0413 - accuracy: 0.9867\n",
      "Epoch 5/5\n",
      "1875/1875 - 5s - loss: 0.0335 - accuracy: 0.9897\n",
      "313/313 - 0s - loss: 0.0737 - accuracy: 0.9801\n"
     ]
    },
    {
     "data": {
      "text/plain": [
       "[0.07372310757637024, 0.9800999760627747]"
      ]
     },
     "execution_count": 19,
     "metadata": {},
     "output_type": "execute_result"
    }
   ],
   "source": [
    "# functional API (more flexible, multiple input and output)\n",
    "\n",
    "\n",
    "inputs = keras.Input(shape=(784))\n",
    "x = layers.Dense(512, activation=\"relu\", name=\"first_layer\")(inputs)\n",
    "x = layers.Dense(256, activation=\"relu\", name=\"second_layer\")(x)\n",
    "outputs = layers.Dense(10, activation=\"softmax\")(x)\n",
    "\n",
    "model = keras.Model(inputs=inputs, outputs=outputs)\n",
    "\n",
    "model.compile(\n",
    "    loss=keras.losses.SparseCategoricalCrossentropy(from_logits=False),\n",
    "    optimizer=keras.optimizers.Adam(lr=0.001),\n",
    "    metrics=[\"accuracy\"],\n",
    ")\n",
    "\n",
    "# Tensorboard\n",
    "\n",
    "tensorboard_callback = keras.callbacks.TensorBoard(\n",
    "    log_dir = \"tb_callback_dir\",\n",
    "    histogram_freq = 1,\n",
    ")\n",
    "\n",
    "model.fit(x_train, y_train, batch_size=32, epochs=5, verbose=2,callbacks=[tensorboard_callback])\n",
    "model.evaluate(x_test, y_test, batch_size=32, verbose=2)\n"
   ]
  },
  {
   "cell_type": "code",
   "execution_count": 18,
   "metadata": {},
   "outputs": [],
   "source": [
    "# we can debug each of the layers\n",
    "# https://www.youtube.com/watch?v=pAhPiF3yiXI&list=PLhhyoLH6IjfxVOdVC1P1L5z5azs0XjMsb&index=3 \n",
    "# after 17:31s"
   ]
  },
  {
   "cell_type": "code",
   "execution_count": null,
   "metadata": {},
   "outputs": [],
   "source": []
  }
 ],
 "metadata": {
  "kernelspec": {
   "display_name": "Python 3",
   "language": "python",
   "name": "python3"
  },
  "language_info": {
   "codemirror_mode": {
    "name": "ipython",
    "version": 3
   },
   "file_extension": ".py",
   "mimetype": "text/x-python",
   "name": "python",
   "nbconvert_exporter": "python",
   "pygments_lexer": "ipython3",
   "version": "3.7.6"
  }
 },
 "nbformat": 4,
 "nbformat_minor": 4
}
