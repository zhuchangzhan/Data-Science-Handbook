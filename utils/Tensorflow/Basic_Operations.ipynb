{
 "cells": [
  {
   "cell_type": "markdown",
   "metadata": {},
   "source": [
    "# Tensorflow Basics\n",
    "\n",
    "## References:\n",
    "1. https://github.com/aladdinpersson/Machine-Learning-Collection/tree/master/ML/TensorFlow"
   ]
  },
  {
   "cell_type": "code",
   "execution_count": 1,
   "metadata": {},
   "outputs": [],
   "source": [
    "import os\n",
    "import tensorflow as tf"
   ]
  },
  {
   "cell_type": "code",
   "execution_count": 19,
   "metadata": {},
   "outputs": [
    {
     "name": "stdout",
     "output_type": "stream",
     "text": [
      "tf.Tensor(4, shape=(), dtype=int32)\n",
      "tf.Tensor([[4.]], shape=(1, 1), dtype=float32)\n",
      "tf.Tensor(\n",
      "[[1 2 3]\n",
      " [4 5 6]], shape=(2, 3), dtype=int32)\n",
      "tf.Tensor(\n",
      "[[1. 1. 1.]\n",
      " [1. 1. 1.]\n",
      " [1. 1. 1.]], shape=(3, 3), dtype=float32)\n",
      "tf.Tensor(\n",
      "[[0. 0. 0.]\n",
      " [0. 0. 0.]], shape=(2, 3), dtype=float32)\n",
      "tf.Tensor(\n",
      "[[1. 0. 0.]\n",
      " [0. 1. 0.]\n",
      " [0. 0. 1.]], shape=(3, 3), dtype=float32)\n",
      "tf.Tensor(\n",
      "[[-2.4164937   1.2460254  -0.9171574 ]\n",
      " [ 0.2263783   0.6572247  -2.523082  ]\n",
      " [ 0.24824394  0.9065302  -2.8451877 ]], shape=(3, 3), dtype=float32)\n",
      "tf.Tensor(\n",
      "[[0.81311285 0.8083141  0.572189  ]\n",
      " [0.61754405 0.84401464 0.8732393 ]\n",
      " [0.6293386  0.88741946 0.2513144 ]], shape=(3, 3), dtype=float32)\n",
      "tf.Tensor([0 1 2 3 4 5 6 7 8], shape=(9,), dtype=int32)\n",
      "tf.Tensor([1 3 5 7 9], shape=(5,), dtype=int32)\n",
      "tf.Tensor([1. 3. 5. 7. 9.], shape=(5,), dtype=float64)\n"
     ]
    }
   ],
   "source": [
    "# Initialization\n",
    "\n",
    "## manual initialization\n",
    "x = tf.constant(4) # Scalar\n",
    "print(x)\n",
    "x = tf.constant(4,shape=(1,1),dtype=tf.float32) # 1x1 matrix\n",
    "print(x)\n",
    "x = tf.constant([[1,2,3],[4,5,6]]) \n",
    "print(x)\n",
    "\n",
    "## simple initialization\n",
    "x = tf.ones((3,3))\n",
    "print(x)\n",
    "x = tf.zeros((2,3))\n",
    "print(x)\n",
    "x = tf.eye(3) #identity matrix\n",
    "print(x)\n",
    "\n",
    "## random\n",
    "x = tf.random.normal((3,3),mean=0,stddev=1)\n",
    "print(x)\n",
    "x = tf.random.uniform((3,3),minval=0,maxval=1)\n",
    "print(x)\n",
    "\n",
    "## range\n",
    "x = tf.range(9)\n",
    "print(x)\n",
    "x = tf.range(start=1,limit=10,delta=2)\n",
    "print(x)\n",
    "\n",
    "## change type\n",
    "x = tf.cast(x,dtype=tf.float64)\n",
    "print(x)\n"
   ]
  },
  {
   "cell_type": "code",
   "execution_count": 3,
   "metadata": {},
   "outputs": [],
   "source": [
    "# Operations\n",
    "\n",
    "x = tf.constant([1,2,3])\n",
    "y = tf.constant([9,8,7])\n",
    "\n",
    "# Element wise\n",
    "\n",
    "z = tf.add(x,y) # x + y\n",
    "z = tf.subtract(x,y) # x - y\n",
    "z = tf.multiply(x,y) # x*y\n",
    "z = tf.dividie(x,y) # x/y\n",
    "\n",
    "\n",
    "z = tf.tensorfot(x,y,axes=1)\n",
    "z = tf.reduce_sum(x*y,axis=0)\n",
    "\n",
    "z = x**5\n",
    "\n",
    "x = tf.random.normal((2,3))\n",
    "y = tf.random.normal((3,4))\n",
    "z = tf.matmul(x,y) # x @ y\n",
    "\n"
   ]
  },
  {
   "cell_type": "code",
   "execution_count": 25,
   "metadata": {},
   "outputs": [
    {
     "name": "stdout",
     "output_type": "stream",
     "text": [
      "tf.Tensor([0 1 2 3 4 5 6], shape=(7,), dtype=int32)\n",
      "tf.Tensor([2 3], shape=(2,), dtype=int32)\n",
      "tf.Tensor([0 2 4 6], shape=(4,), dtype=int32)\n",
      "tf.Tensor([6 5 4 3 2 1 0], shape=(7,), dtype=int32)\n",
      "tf.Tensor([0 3], shape=(2,), dtype=int32)\n"
     ]
    }
   ],
   "source": [
    "# Indexing\n",
    "\n",
    "x = tf.constant([0,1,2,3,4,5,6])\n",
    "print(x[:])\n",
    "print(x[2:4])\n",
    "print(x[::2])\n",
    "print(x[::-1])\n",
    "\n",
    "\n",
    "indices = tf.constant([0,3])\n",
    "x_ind = tf.gather(x,indices)\n",
    "print(x_ind)"
   ]
  },
  {
   "cell_type": "code",
   "execution_count": 26,
   "metadata": {},
   "outputs": [
    {
     "name": "stdout",
     "output_type": "stream",
     "text": [
      "tf.Tensor([0 1 2 3 4 5 6 7 8], shape=(9,), dtype=int32)\n",
      "tf.Tensor(\n",
      "[[0 1 2]\n",
      " [3 4 5]\n",
      " [6 7 8]], shape=(3, 3), dtype=int32)\n",
      "tf.Tensor(\n",
      "[[0 3 6]\n",
      " [1 4 7]\n",
      " [2 5 8]], shape=(3, 3), dtype=int32)\n"
     ]
    }
   ],
   "source": [
    "# Reshaping\n",
    "\n",
    "x = tf.range(9)\n",
    "print(x)\n",
    "x = tf.reshape(x, (3,3))\n",
    "print(x)\n",
    "\n",
    "x = tf.transpose(x, perm=[1,0])\n",
    "print(x)"
   ]
  },
  {
   "cell_type": "code",
   "execution_count": null,
   "metadata": {},
   "outputs": [],
   "source": []
  }
 ],
 "metadata": {
  "kernelspec": {
   "display_name": "Python 3",
   "language": "python",
   "name": "python3"
  },
  "language_info": {
   "codemirror_mode": {
    "name": "ipython",
    "version": 3
   },
   "file_extension": ".py",
   "mimetype": "text/x-python",
   "name": "python",
   "nbconvert_exporter": "python",
   "pygments_lexer": "ipython3",
   "version": "3.7.6"
  }
 },
 "nbformat": 4,
 "nbformat_minor": 4
}
