{
 "cells": [
  {
   "cell_type": "markdown",
   "metadata": {},
   "source": [
    "## Before You Start\n",
    "\n",
    "### Ask Questions\n",
    "\n",
    "1. If there is an alternative to doing the take-home assignment if given the chance.\n",
    "2. That you’ll get feedback for your work instead of a standardized rejection email.\n",
    "3. You understand the rubric and extent to which you will be graded on."
   ]
  },
  {
   "cell_type": "markdown",
   "metadata": {},
   "source": [
    "## Summary of Steps\n",
    "\n",
    "exploratory analysis \n",
    "\n",
    "data processing \n",
    "\n",
    "featuring engineering\n",
    "\n",
    "model building\n",
    "\n",
    "hyperparameter tuning\n",
    "\n",
    "training and validating"
   ]
  },
  {
   "cell_type": "markdown",
   "metadata": {},
   "source": [
    "## References\n",
    "1. https://towardsdatascience.com/acing-the-data-science-take-home-assignment-530a93164e52\n",
    "2. https://towardsdatascience.com/passing-the-dreaded-data-science-take-home-assignment-8ae5d55f256b"
   ]
  },
  {
   "cell_type": "code",
   "execution_count": null,
   "metadata": {},
   "outputs": [],
   "source": []
  }
 ],
 "metadata": {
  "kernelspec": {
   "display_name": "Python 3",
   "language": "python",
   "name": "python3"
  },
  "language_info": {
   "codemirror_mode": {
    "name": "ipython",
    "version": 3
   },
   "file_extension": ".py",
   "mimetype": "text/x-python",
   "name": "python",
   "nbconvert_exporter": "python",
   "pygments_lexer": "ipython3",
   "version": "3.7.6"
  }
 },
 "nbformat": 4,
 "nbformat_minor": 4
}
