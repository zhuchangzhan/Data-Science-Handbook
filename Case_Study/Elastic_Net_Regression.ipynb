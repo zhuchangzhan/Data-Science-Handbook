{
 "cells": [
  {
   "cell_type": "markdown",
   "metadata": {},
   "source": [
    "https://www.datatechnotes.com/2019/08/elasticnet-regression-example-in-python.html"
   ]
  },
  {
   "cell_type": "code",
   "execution_count": 2,
   "metadata": {},
   "outputs": [],
   "source": [
    "from sklearn.datasets import load_boston\n",
    "from sklearn.linear_model import ElasticNet,ElasticNetCV\n",
    "from sklearn.metrics import mean_squared_error\n",
    "from sklearn.model_selection import train_test_split\n",
    "import matplotlib.pyplot as plt\n",
    "import numpy as np"
   ]
  },
  {
   "cell_type": "code",
   "execution_count": 3,
   "metadata": {},
   "outputs": [],
   "source": [
    "boston = load_boston()\n",
    "x, y = boston.data, boston.target\n",
    "xtrain, xtest, ytrain, ytest = train_test_split(x, y, test_size=0.15)"
   ]
  },
  {
   "cell_type": "code",
   "execution_count": 4,
   "metadata": {},
   "outputs": [
    {
     "name": "stdout",
     "output_type": "stream",
     "text": [
      "Alpha:0.0001, R2:0.74, MSE:21.90, RMSE:4.68\n",
      "Alpha:0.0010, R2:0.74, MSE:21.92, RMSE:4.68\n",
      "Alpha:0.0100, R2:0.74, MSE:22.32, RMSE:4.72\n",
      "Alpha:0.1000, R2:0.73, MSE:23.16, RMSE:4.81\n",
      "Alpha:0.3000, R2:0.71, MSE:24.08, RMSE:4.91\n",
      "Alpha:0.5000, R2:0.71, MSE:24.85, RMSE:4.99\n",
      "Alpha:0.7000, R2:0.70, MSE:25.55, RMSE:5.05\n",
      "Alpha:1.0000, R2:0.69, MSE:26.50, RMSE:5.15\n"
     ]
    }
   ],
   "source": [
    "alphas = [0.0001, 0.001, 0.01, 0.1, 0.3, 0.5, 0.7, 1]\n",
    "for a in alphas:\n",
    "    model = ElasticNet(alpha=a).fit(x,y)   \n",
    "    score = model.score(x, y)\n",
    "    pred_y = model.predict(x)\n",
    "    mse = mean_squared_error(y, pred_y)   \n",
    "    print(\"Alpha:{0:.4f}, R2:{1:.2f}, MSE:{2:.2f}, RMSE:{3:.2f}\"\n",
    "       .format(a, score, mse, np.sqrt(mse)))\n"
   ]
  },
  {
   "cell_type": "code",
   "execution_count": 5,
   "metadata": {},
   "outputs": [
    {
     "name": "stdout",
     "output_type": "stream",
     "text": [
      "R2:0.790, MSE:20.14, RMSE:4.49\n"
     ]
    }
   ],
   "source": [
    "elastic=ElasticNet(alpha=0.01).fit(xtrain, ytrain)\n",
    "ypred = elastic.predict(xtest)\n",
    "score = elastic.score(xtest, ytest)\n",
    "mse = mean_squared_error(ytest, ypred)\n",
    "print(\"R2:{0:.3f}, MSE:{1:.2f}, RMSE:{2:.2f}\"\n",
    "      .format(score, mse, np.sqrt(mse)))"
   ]
  },
  {
   "cell_type": "code",
   "execution_count": 6,
   "metadata": {},
   "outputs": [
    {
     "data": {
      "image/png": "[encoded data removed]",
      "text/plain": [
       "<Figure size 432x288 with 1 Axes>"
      ]
     },
     "metadata": {
      "needs_background": "light"
     },
     "output_type": "display_data"
    }
   ],
   "source": [
    "x_ax = range(len(xtest))\n",
    "plt.scatter(x_ax, ytest, s=5, color=\"blue\", label=\"original\")\n",
    "plt.plot(x_ax, ypred, lw=0.8, color=\"red\", label=\"predicted\")\n",
    "plt.legend()\n",
    "plt.show()"
   ]
  },
  {
   "cell_type": "code",
   "execution_count": 11,
   "metadata": {},
   "outputs": [],
   "source": [
    "elastic_cv=ElasticNetCV(alphas=[0.01,0.1], cv=5)\n",
    "model = elastic_cv.fit(xtrain, ytrain)"
   ]
  },
  {
   "cell_type": "code",
   "execution_count": 12,
   "metadata": {},
   "outputs": [
    {
     "name": "stdout",
     "output_type": "stream",
     "text": [
      "0.01\n"
     ]
    }
   ],
   "source": [
    "print(model.alpha_)"
   ]
  },
  {
   "cell_type": "code",
   "execution_count": 13,
   "metadata": {},
   "outputs": [
    {
     "name": "stdout",
     "output_type": "stream",
     "text": [
      "R2:0.790, MSE:20.14, RMSE:4.49\n"
     ]
    }
   ],
   "source": [
    "elastic_cv=ElasticNetCV(alphas=[0.01,0.1], cv=5)\n",
    "model = elastic_cv.fit(xtrain, ytrain)\n",
    "ypred = model.predict(xtest)\n",
    "score = model.score(xtest, ytest)\n",
    "mse = mean_squared_error(ytest, ypred)\n",
    "print(\"R2:{0:.3f}, MSE:{1:.2f}, RMSE:{2:.2f}\"\n",
    "      .format(score, mse, np.sqrt(mse)))"
   ]
  },
  {
   "cell_type": "code",
   "execution_count": null,
   "metadata": {},
   "outputs": [],
   "source": []
  }
 ],
 "metadata": {
  "kernelspec": {
   "display_name": "Python 3",
   "language": "python",
   "name": "python3"
  },
  "language_info": {
   "codemirror_mode": {
    "name": "ipython",
    "version": 3
   },
   "file_extension": ".py",
   "mimetype": "text/x-python",
   "name": "python",
   "nbconvert_exporter": "python",
   "pygments_lexer": "ipython3",
   "version": "3.7.6"
  }
 },
 "nbformat": 4,
 "nbformat_minor": 4
}
