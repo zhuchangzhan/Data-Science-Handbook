{
 "cells": [
  {
   "cell_type": "markdown",
   "metadata": {},
   "source": [
    "# PySpark Introduction\n",
    "\n",
    "## What is and Why Spark\n",
    "\n",
    "Spark is a lightning fast solution to cloud computing by running in memory\n",
    "\n",
    "Speed, powerful caching, real time, deployment, polyglot\n",
    "\n",
    "\n",
    "## How PySpark work\n",
    "\n",
    "works well on huge data sets\n",
    "pyspark runs 100x fater than hadroop map reduce\n",
    "\n",
    "PySpark replaces pandas.\n",
    "\n",
    "Spark works best with python, despite developed in Scala\n",
    "\n"
   ]
  },
  {
   "cell_type": "code",
   "execution_count": null,
   "metadata": {},
   "outputs": [],
   "source": []
  }
 ],
 "metadata": {
  "kernelspec": {
   "display_name": "Python 3",
   "language": "python",
   "name": "python3"
  },
  "language_info": {
   "codemirror_mode": {
    "name": "ipython",
    "version": 3
   },
   "file_extension": ".py",
   "mimetype": "text/x-python",
   "name": "python",
   "nbconvert_exporter": "python",
   "pygments_lexer": "ipython3",
   "version": "3.7.6"
  }
 },
 "nbformat": 4,
 "nbformat_minor": 4
}
