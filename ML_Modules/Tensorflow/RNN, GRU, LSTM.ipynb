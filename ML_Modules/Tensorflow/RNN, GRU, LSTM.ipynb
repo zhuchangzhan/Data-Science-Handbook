{
 "cells": [
  {
   "cell_type": "markdown",
   "metadata": {},
   "source": [
    "# RNN, GRU, LSTM\n",
    "\n",
    "RNN processes each line of the image one row at a time\n",
    "\n",
    "\n",
    "\n",
    "## GRU, LSTM > RNN\n",
    "\n",
    "RNN suffer from a vanishing gradient problem, forgets about long term trends\n",
    "\n",
    "## GRU vs LSTM?\n",
    "\n",
    "GRU and LSTM performance are similar, though situational\n",
    "GRU is simpler, faster to train\n",
    "\n",
    "## Bidirectional LSTM\n",
    "\n",
    "\n",
    "\n",
    "\n",
    "## References\n",
    "https://www.youtube.com/watch?v=Ogvd787uJO8&list=PLhhyoLH6IjfxVOdVC1P1L5z5azs0XjMsb&index=6\n",
    "https://towardsdatascience.com/illustrated-guide-to-lstms-and-gru-s-a-step-by-step-explanation-44e9eb85bf21"
   ]
  },
  {
   "cell_type": "code",
   "execution_count": 2,
   "metadata": {},
   "outputs": [],
   "source": [
    "import os\n",
    "os.environ['TF_CPP_MIN_LOG_LEVEL'] = '2'\n",
    "\n",
    "import tensorflow as tf\n",
    "from tensorflow import keras # official high level api, goto for tensorflow NN\n",
    "from tensorflow.keras import layers\n",
    "from tensorflow.keras.datasets import cifar10\n",
    "\n",
    "#physical_devices = tf.config.list_physical_devices('GPU')\n",
    "#tf.config.experimental.set_memory_growth(physical_devices[0],True) # not allocate all memory on GPU\n"
   ]
  },
  {
   "cell_type": "code",
   "execution_count": null,
   "metadata": {},
   "outputs": [],
   "source": [
    "(x_train, y_train), (x_test, y_test) = mnist.load_data()\n",
    "# x_train = x_train.reshape(-1, 784).astype(\"float32\") / 255.0\n",
    "# x_test = x_test.reshape(-1, 784).astype(\"float32\") / 255.0\n",
    "x_train = x_train.reshape([-1, 28, 28]).astype(\"float32\") / 255.0\n",
    "x_test = x_test.reshape([-1, 28, 28]).astype(\"float32\") / 255.0"
   ]
  }
 ],
 "metadata": {
  "kernelspec": {
   "display_name": "Python 3",
   "language": "python",
   "name": "python3"
  },
  "language_info": {
   "codemirror_mode": {
    "name": "ipython",
    "version": 3
   },
   "file_extension": ".py",
   "mimetype": "text/x-python",
   "name": "python",
   "nbconvert_exporter": "python",
   "pygments_lexer": "ipython3",
   "version": "3.7.6"
  }
 },
 "nbformat": 4,
 "nbformat_minor": 4
}
