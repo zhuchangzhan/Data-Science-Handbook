{
 "cells": [
  {
   "cell_type": "markdown",
   "metadata": {},
   "source": [
    "# Topic\n",
    "\n",
    "\n",
    "\n",
    "\n",
    "## Definition\n",
    "\n",
    "## Cases\n",
    "\n",
    "## General Strategy\n",
    "\n",
    "### Brute Force\n",
    "\n",
    "### Iterative\n",
    "\n",
    "### Recursive\n",
    "\n",
    "### DFS, BFS\n",
    "\n",
    "## Correlation with Other Structures\n",
    "\n",
    "## Extra Requirements\n",
    "\n",
    "### In Place, O(1) Space\n",
    "\n",
    "### Time Complexity Requirements\n"
   ]
  }
 ],
 "metadata": {
  "kernelspec": {
   "display_name": "Python 3",
   "language": "python",
   "name": "python3"
  },
  "language_info": {
   "codemirror_mode": {
    "name": "ipython",
    "version": 3
   },
   "file_extension": ".py",
   "mimetype": "text/x-python",
   "name": "python",
   "nbconvert_exporter": "python",
   "pygments_lexer": "ipython3",
   "version": "3.7.6"
  }
 },
 "nbformat": 4,
 "nbformat_minor": 4
}
