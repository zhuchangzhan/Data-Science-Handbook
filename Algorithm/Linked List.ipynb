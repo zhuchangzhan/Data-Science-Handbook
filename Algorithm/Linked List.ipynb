{
 "cells": [
  {
   "cell_type": "markdown",
   "metadata": {},
   "source": [
    "# Linked List\n",
    "\n",
    "\n",
    "\n",
    "## Definition"
   ]
  },
  {
   "cell_type": "code",
   "execution_count": 3,
   "metadata": {},
   "outputs": [],
   "source": [
    "class ListNode:\n",
    "    def __init__(self, val=0, next=None):\n",
    "        self.val = val\n",
    "        self.next = next"
   ]
  },
  {
   "cell_type": "markdown",
   "metadata": {},
   "source": [
    "## Common Problems\n",
    "\n",
    "### Middle of Node -> 1/3, 2/3 Position, etc\n",
    "fast slow pointer (rabit and turtle)\n",
    "\n",
    "\n",
    "### Delete Node -> \n",
    "point pointers to the next: \n",
    "\n",
    "if node.next:\n",
    "    node.val = node.next.bal\n",
    "    node.next = node.next.next\n",
    "    \n",
    "### Delete Multiple Node\n",
    "make dummy pointer to head incase head need to be removed\n",
    "two pointer keep track of last node and current node, point last node to current node\n",
    "a dummy, a front and a back, update regularly"
   ]
  },
  {
   "cell_type": "code",
   "execution_count": null,
   "metadata": {},
   "outputs": [],
   "source": [
    "def removeElements(self, head: ListNode, val: int) -> ListNode:\n",
    "\n",
    "    dummy = ListNode(None)\n",
    "    dummy.next = head\n",
    "    back,front = dummy,head\n",
    "    while front:\n",
    "        if front.val == val:\n",
    "            back.next = front.next\n",
    "        else:\n",
    "            back = front\n",
    "        front = front.next\n",
    "    return dummy.next"
   ]
  },
  {
   "cell_type": "markdown",
   "metadata": {},
   "source": [
    "### Reverse Node\n",
    "iterative, three pointers"
   ]
  },
  {
   "cell_type": "code",
   "execution_count": 8,
   "metadata": {},
   "outputs": [],
   "source": [
    "def reverseList(head):\n",
    "    prev = None\n",
    "    curr = head\n",
    "    while head:\n",
    "        temp = curr.next\n",
    "        curr.next = prev\n",
    "        prev = curr\n",
    "        curr = temp\n",
    "    return prev"
   ]
  },
  {
   "cell_type": "markdown",
   "metadata": {},
   "source": [
    "### Merge Node\n",
    "recursive approach. if small on one list, iterate 1 forward. repeat until one list is none, then append the rest of the list.\n",
    "Alteration: What if we want to merge in reverse order?"
   ]
  },
  {
   "cell_type": "code",
   "execution_count": 9,
   "metadata": {},
   "outputs": [],
   "source": [
    "def mergeTwoLists(self, l1: ListNode, l2: ListNode) -> ListNode:\n",
    "    if l1 is None:\n",
    "        return l2\n",
    "    elif l2 is None:\n",
    "        return l1\n",
    "    elif l1.val < l2.val:\n",
    "        l1.next = self.mergeTwoLists(l1.next,l2)\n",
    "        return l1\n",
    "    else:\n",
    "        l2.next = self.mergeTwoLists(l2.next,l1)\n",
    "        return l2"
   ]
  },
  {
   "cell_type": "markdown",
   "metadata": {},
   "source": [
    "### Intersections\n",
    "brute force is O(MxN) and hashtable or two pointer approach is O(M+N)\n",
    "\n",
    "use hashtable, iterate the first list, store in hashtable, then iterate the second list to find the same\n",
    "\n",
    "### Cycle Detection\n",
    "hash table O(n), but space is also O(n)\n",
    "\n",
    "Floyd's Cycle Finding Algorithm. O(n) if no cycle, O(n+k) if cycle and cycle length is k. O(1) space\n",
    "\n",
    "Or we can just overwrite the values. Next time we check, if we seen the value, then flag as detected loop\n"
   ]
  },
  {
   "cell_type": "code",
   "execution_count": 10,
   "metadata": {},
   "outputs": [],
   "source": [
    "def FloydCycle(self, head: ListNode) -> bool:\n",
    "    if not head:\n",
    "        return False\n",
    "\n",
    "    slow,fast = head,head.next\n",
    "\n",
    "    while slow != fast: # breaks if fast == slow\n",
    "        if not fast or not fast.next: # reached EOF\n",
    "            return False\n",
    "        slow = slow.next\n",
    "        fat = fast.next.next\n",
    "    return True"
   ]
  },
  {
   "cell_type": "markdown",
   "metadata": {},
   "source": [
    "## Problem Solving General Approach"
   ]
  },
  {
   "cell_type": "markdown",
   "metadata": {},
   "source": [
    "### Brute Force\n",
    "convert linked list to array, but is O(n) space, also need to traverse whole list, not time efficient"
   ]
  },
  {
   "cell_type": "code",
   "execution_count": null,
   "metadata": {},
   "outputs": [],
   "source": []
  },
  {
   "cell_type": "markdown",
   "metadata": {},
   "source": [
    "### Iterative Approach"
   ]
  },
  {
   "cell_type": "code",
   "execution_count": null,
   "metadata": {},
   "outputs": [],
   "source": [
    "while head.next:\n",
    "    # TODO\n",
    "    head = head.next\n",
    "    # TODO"
   ]
  },
  {
   "cell_type": "markdown",
   "metadata": {},
   "source": [
    "### Recursive Approach"
   ]
  },
  {
   "cell_type": "code",
   "execution_count": null,
   "metadata": {},
   "outputs": [],
   "source": [
    "def get_val(head):\n",
    "    if head.next:\n",
    "        # TODO\n",
    "        return get_val(head.next)"
   ]
  },
  {
   "cell_type": "markdown",
   "metadata": {},
   "source": [
    "### Creating a Dummy Head"
   ]
  },
  {
   "cell_type": "code",
   "execution_count": 4,
   "metadata": {},
   "outputs": [],
   "source": [
    "dummy = ListNode(None)"
   ]
  },
  {
   "cell_type": "markdown",
   "metadata": {},
   "source": [
    "### Panic Solution\n",
    "\n",
    "Think about how the pointer step through each iteration, \n",
    "write it out in paper and pencil and track it"
   ]
  },
  {
   "cell_type": "code",
   "execution_count": null,
   "metadata": {},
   "outputs": [],
   "source": []
  },
  {
   "cell_type": "markdown",
   "metadata": {},
   "source": [
    "## Correlation with Other Structures\n",
    "\n",
    "### Linked list vs array\n",
    "\n",
    "array access time is O(1)\n",
    "\n",
    "linked list access time is O(n)\n",
    "\n"
   ]
  },
  {
   "cell_type": "markdown",
   "metadata": {},
   "source": [
    "## Complexity Analysis\n",
    "\n",
    "### How to do in O(n) time? \n",
    "consider using array, but O(n) space\n",
    "\n",
    "### How to do in O(1) space?\n",
    "need to modify linked list in place"
   ]
  }
 ],
 "metadata": {
  "kernelspec": {
   "display_name": "Python 3",
   "language": "python",
   "name": "python3"
  },
  "language_info": {
   "codemirror_mode": {
    "name": "ipython",
    "version": 3
   },
   "file_extension": ".py",
   "mimetype": "text/x-python",
   "name": "python",
   "nbconvert_exporter": "python",
   "pygments_lexer": "ipython3",
   "version": "3.7.6"
  }
 },
 "nbformat": 4,
 "nbformat_minor": 4
}
