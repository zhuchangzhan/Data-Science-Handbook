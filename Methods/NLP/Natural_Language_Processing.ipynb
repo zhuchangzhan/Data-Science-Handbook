{
 "cells": [
  {
   "cell_type": "markdown",
   "metadata": {},
   "source": [
    "# NLP \n",
    "\n",
    "*** How to deal with text data ***\n",
    "\n",
    "## Path\n",
    "\n",
    "### Speech to Text\n",
    "\n",
    "### Text to Speech\n",
    "\n",
    "###  \n",
    "\n",
    "\n",
    "\n",
    "## Applications\n",
    "\n",
    "### Sentiment Analysis\n",
    "\n",
    "### Topic Modelling\n",
    "\n",
    "### Text Generation"
   ]
  },
  {
   "cell_type": "code",
   "execution_count": null,
   "metadata": {},
   "outputs": [],
   "source": []
  }
 ],
 "metadata": {
  "kernelspec": {
   "display_name": "Python 3",
   "language": "python",
   "name": "python3"
  },
  "language_info": {
   "codemirror_mode": {
    "name": "ipython",
    "version": 3
   },
   "file_extension": ".py",
   "mimetype": "text/x-python",
   "name": "python",
   "nbconvert_exporter": "python",
   "pygments_lexer": "ipython3",
   "version": "3.7.6"
  }
 },
 "nbformat": 4,
 "nbformat_minor": 4
}
