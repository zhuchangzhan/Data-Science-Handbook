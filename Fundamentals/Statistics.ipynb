{
 "cells": [
  {
   "cell_type": "markdown",
   "metadata": {},
   "source": [
    "# Basic Statistics  \n",
    "Based on Hackerrank's 10 Days of Statistics. ref1"
   ]
  },
  {
   "cell_type": "code",
   "execution_count": null,
   "metadata": {},
   "outputs": [],
   "source": [
    "import numpy as np"
   ]
  },
  {
   "cell_type": "markdown",
   "metadata": {},
   "source": [
    "## Mean, Median, Mode"
   ]
  },
  {
   "cell_type": "code",
   "execution_count": 3,
   "metadata": {},
   "outputs": [],
   "source": [
    "def median(nums): # ref2\n",
    "    quotient, remainder = divmod(len(nums), 2)\n",
    "    if remainder:\n",
    "        return sorted(nums)[quotient]\n",
    "    return sum(sorted(nums)[quotient - 1:quotient + 1]) / 2.\n",
    "\n",
    "def mean(nums):\n",
    "    return sum(nums)/total\n",
    "\n",
    "def mode(nums): #ref3\n",
    "    return max(sorted(set(nums)), key=nums.count) \n",
    "\n",
    "def weighted_mean(nums,weight):\n",
    "    return sum([x*y for x,y in zip(nums,weight)])/sum(weight)\n"
   ]
  },
  {
   "cell_type": "markdown",
   "metadata": {},
   "source": [
    "## Reference:\n",
    "1. https://www.hackerrank.com/challenges/s10-basic-statistics/problem\n",
    "2. https://stackoverflow.com/questions/24101524/finding-median-of-list-in-python SiHa\n",
    "3. https://stackoverflow.com/questions/63214572/python-get-the-lowest-most-frequent-value-of-a-list bigbounty "
   ]
  },
  {
   "cell_type": "code",
   "execution_count": null,
   "metadata": {},
   "outputs": [],
   "source": []
  }
 ],
 "metadata": {
  "kernelspec": {
   "display_name": "Python 3",
   "language": "python",
   "name": "python3"
  },
  "language_info": {
   "codemirror_mode": {
    "name": "ipython",
    "version": 3
   },
   "file_extension": ".py",
   "mimetype": "text/x-python",
   "name": "python",
   "nbconvert_exporter": "python",
   "pygments_lexer": "ipython3",
   "version": "3.7.6"
  }
 },
 "nbformat": 4,
 "nbformat_minor": 4
}
