{
 "cells": [
  {
   "cell_type": "markdown",
   "metadata": {},
   "source": [
    "# Jupyter Tips and tricks\n",
    "\n",
    "\n",
    "## Toggle Modes\n",
    "esc and enter to switch between edit modes\n",
    "\n",
    "H for help\n",
    "\n",
    "M for changing to markdown\n",
    "\n",
    "A for creating above, B for creating below\n",
    "\n",
    "## Shortcuts\n",
    "\n",
    "shift+tab allows you to see the function documentation\n"
   ]
  },
  {
   "cell_type": "markdown",
   "metadata": {},
   "source": [
    "## Reference\n",
    "1. https://www.youtube.com/watch?v=FW2BF6jbHBk"
   ]
  }
 ],
 "metadata": {
  "kernelspec": {
   "display_name": "Python 3",
   "language": "python",
   "name": "python3"
  },
  "language_info": {
   "codemirror_mode": {
    "name": "ipython",
    "version": 3
   },
   "file_extension": ".py",
   "mimetype": "text/x-python",
   "name": "python",
   "nbconvert_exporter": "python",
   "pygments_lexer": "ipython3",
   "version": "3.7.6"
  }
 },
 "nbformat": 4,
 "nbformat_minor": 4
}
