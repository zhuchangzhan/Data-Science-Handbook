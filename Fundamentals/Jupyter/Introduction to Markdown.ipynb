{
 "cells": [
  {
   "cell_type": "markdown",
   "metadata": {},
   "source": [
    "# Markdown Common Use Case"
   ]
  },
  {
   "cell_type": "markdown",
   "metadata": {},
   "source": [
    "# Headlines \n",
    "\n",
    "# H1\n",
    "## H2\n",
    "### H3\n",
    "#### H4"
   ]
  },
  {
   "cell_type": "markdown",
   "metadata": {},
   "source": [
    "# Text\n",
    "\n",
    "## Basic\n",
    "\n",
    "*italic* or _this is italic as well_\n",
    "\n",
    "**bold text** or <b> This is bold as well </b>, and __so can this be bold__\n",
    "\n",
    "***bold italic***\n",
    "\n",
    "~~scratched text~~\n",
    "\n",
    "<u>underline</u>\n",
    "\n",
    "## Line break\n",
    "This is a<br>linebreak\n",
    "\n",
    "## Color\n",
    "Front color is\n",
    "<font color=blue>blue</font>\n",
    "<font color=red>red</font>\n",
    "<font color=green>green</font>\n",
    "\n",
    "## Horizontal Line\n",
    "\n",
    "---\n"
   ]
  },
  {
   "cell_type": "markdown",
   "metadata": {},
   "source": [
    "# Itemize\n",
    "\n",
    "1. one \n",
    "    - one point one\n",
    "    - one point two\n",
    "2. two\n",
    "3. three\n",
    "\n",
    "\n",
    "\n",
    "* Item one\n",
    "* Item two\n",
    "    * subitem\n",
    "    * subitem\n",
    "        * subsubitem"
   ]
  },
  {
   "cell_type": "markdown",
   "metadata": {},
   "source": [
    "# Math\n",
    "\n",
    "\n",
    "This is inline $sin(x)^2$, while this is a block $$y=x^2$$"
   ]
  },
  {
   "cell_type": "markdown",
   "metadata": {},
   "source": [
    "# Code\n",
    "\n",
    "Example:\n",
    "\n",
    "```python\n",
    "x = f(y)\n",
    "print(x)\n",
    "```"
   ]
  },
  {
   "cell_type": "markdown",
   "metadata": {},
   "source": [
    "# Links\n",
    "\n",
    "I like [Python](https://python.org)"
   ]
  },
  {
   "cell_type": "markdown",
   "metadata": {},
   "source": [
    "# Images\n",
    "\n",
    "![Python Logo](https://www.python.org/static/img/python-logo.png)\n",
    "\n",
    "Can also include html image syntax\n",
    "<img src=https://www.python.org/static/img/python-logo.png width=300>"
   ]
  },
  {
   "cell_type": "markdown",
   "metadata": {},
   "source": [
    "# Tables\n",
    "\n",
    "\n",
    "| Left-aligned | Center-aligned | Right-aligned |\n",
    "|:-------------|:--------------:|--------------:|\n",
    "| Pressure     |P               |(Pa)           |\n",
    "| Temperature  |T               |(K)            |\n",
    "| Velocity     |v               |(m$^3$)        |"
   ]
  },
  {
   "cell_type": "markdown",
   "metadata": {},
   "source": [
    "# Blockquotes, indent\n",
    "\n",
    "> This is a block quote?"
   ]
  },
  {
   "cell_type": "markdown",
   "metadata": {},
   "source": [
    "# IFrame\n",
    "\n",
    "useful for including pdfs, goes in the code cell"
   ]
  },
  {
   "cell_type": "code",
   "execution_count": 4,
   "metadata": {},
   "outputs": [
    {
     "data": {
      "text/html": [
       "\n",
       "        <iframe\n",
       "            width=\"1000\"\n",
       "            height=\"600\"\n",
       "            src=\"https://arxiv.org/pdf/1503.06669.pdf\"\n",
       "            frameborder=\"0\"\n",
       "            allowfullscreen\n",
       "        ></iframe>\n",
       "        "
      ],
      "text/plain": [
       "<IPython.lib.display.IFrame at 0x10ce0a190>"
      ]
     },
     "execution_count": 4,
     "metadata": {},
     "output_type": "execute_result"
    }
   ],
   "source": [
    "from IPython.display import IFrame\n",
    "IFrame(\"https://arxiv.org/pdf/1503.06669.pdf\",width=1000,height=600)"
   ]
  },
  {
   "cell_type": "markdown",
   "metadata": {},
   "source": [
    "# Reference\n",
    "\n",
    "1. https://www.youtube.com/watch?v=uVLzL5E-YBM\n",
    "2. https://www.youtube.com/watch?v=jBCB23pQeIA\n",
    "3. https://www.youtube.com/watch?v=-F4WS8o-G2A"
   ]
  },
  {
   "cell_type": "code",
   "execution_count": null,
   "metadata": {},
   "outputs": [],
   "source": []
  }
 ],
 "metadata": {
  "kernelspec": {
   "display_name": "Python 3",
   "language": "python",
   "name": "python3"
  },
  "language_info": {
   "codemirror_mode": {
    "name": "ipython",
    "version": 3
   },
   "file_extension": ".py",
   "mimetype": "text/x-python",
   "name": "python",
   "nbconvert_exporter": "python",
   "pygments_lexer": "ipython3",
   "version": "3.7.6"
  }
 },
 "nbformat": 4,
 "nbformat_minor": 4
}
