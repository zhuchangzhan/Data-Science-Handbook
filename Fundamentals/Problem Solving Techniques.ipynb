{
 "cells": [
  {
   "cell_type": "markdown",
   "metadata": {},
   "source": [
    "# Technical Interview\n",
    "\n",
    "\n",
    "## References\n",
    "\n",
    "https://www.youtube.com/watch?v=GKgAVjJxh9w&feature=emb_logo"
   ]
  },
  {
   "cell_type": "markdown",
   "metadata": {},
   "source": [
    "# Solving Algorithm Problems\n",
    "\n",
    "## 1. Listen to all the details\n",
    "How do you solve the problem optimally, rely on all the detail in the question\n",
    "\n",
    "## 2. Come up with a good example\n",
    "How is your example useful? \n",
    "Avoid special cases\n",
    "What are the edge cased?\n",
    "\n",
    "## 3. Come up with a brute force solution\n",
    "better to be slow then nothing at all\n",
    "don't need to code it, state the code, state the runtime, then optimize it\n",
    "\n",
    "## 4. Optimize\n",
    "Spend most of the time optimizing your solution\n",
    "\n",
    "## 5. Walk through your algorithm\n",
    "Know exactly what you're going to do before coding\n",
    "don't code prematurely\n",
    "80% understanding of what you're doing is not enough\n",
    "Ask these questions:\n",
    "\n",
    "1. what variables and datastructures?\n",
    "2. How, when, why do they change?\n",
    "3. What is the structure of your code?\n",
    "\n",
    "## 6. Start coding\n",
    "\n",
    "### white board\n",
    "straight lines\n",
    "space mgmt\n",
    "### both\n",
    "style matters, naming, variable, etc. stick to the same style\n",
    "descriptive variable names\n",
    "\n",
    "### Modularization \n",
    "before, not after!\n",
    "write the overall structure before you write the detailed functions\n",
    "\n",
    "## 7. Testing code\n",
    "don't test with the same test case\n",
    "walk though code line by line, double check loops and math, indexes\n",
    "\n",
    "### Test Case\n",
    "\n",
    "use small test cases first, fast to run through\n",
    "\n",
    "don't be a bot. think as you test\n",
    "testing code and not algorithm\n",
    "think before you fix bugs. may cause new bugs and can make code more complex, and more worse\n",
    "normal to have bugs, but need to know what it really came from\n",
    "\n",
    "\n"
   ]
  },
  {
   "cell_type": "markdown",
   "metadata": {},
   "source": [
    "# Edgecases\n",
    "\n",
    "n = 0\n",
    "\n"
   ]
  },
  {
   "cell_type": "markdown",
   "metadata": {},
   "source": [
    "# Algorithm Strategies\n",
    "\n",
    "## BUD\n",
    "\n",
    "### bottlenects\n",
    "\n",
    "\n",
    "\n",
    "### unnecessary work\n",
    "\n",
    "### duplicated work\n",
    "\n",
    "$a^2 + b^2 = c^2 + d^2$ no need to compute c and d since same as a and b\n",
    "\n",
    "## Space/Time Tradeoffs\n",
    "trading space for time\n",
    "use hashtables\n",
    "\n",
    "\n",
    "## DIY\n",
    "\n",
    "make example large and do it yourself. the brain have to do work. the naturally flow intuitive solution is probably a good solution"
   ]
  }
 ],
 "metadata": {
  "kernelspec": {
   "display_name": "Python 3",
   "language": "python",
   "name": "python3"
  },
  "language_info": {
   "codemirror_mode": {
    "name": "ipython",
    "version": 3
   },
   "file_extension": ".py",
   "mimetype": "text/x-python",
   "name": "python",
   "nbconvert_exporter": "python",
   "pygments_lexer": "ipython3",
   "version": "3.7.6"
  }
 },
 "nbformat": 4,
 "nbformat_minor": 4
}
