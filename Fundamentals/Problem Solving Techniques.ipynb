{
 "cells": [
  {
   "cell_type": "markdown",
   "metadata": {},
   "source": [
    "# Technical Interview\n",
    "\n",
    "\n",
    "## References\n",
    "\n",
    "https://www.youtube.com/watch?v=GKgAVjJxh9w&feature=emb_logo"
   ]
  },
  {
   "cell_type": "markdown",
   "metadata": {},
   "source": [
    "## Solving Algorithm Problems\n",
    "\n",
    "### 1. Listen to all the details\n",
    "How do you solve the problem optimally, rely on all the detail in the question\n",
    "\n",
    "### 2. Come up with a good example\n",
    "How is your example useful? \n",
    "Avoid special cases\n",
    "What are the edge cased?\n",
    "\n",
    "### 3. Come up with a brute force solution\n",
    "better to be slow then nothing at all\n",
    "don't need to code it, state the code, state the runtime, then optimize it\n",
    "\n",
    "### 4. Optimize\n",
    "Spend most of the time optimizing your solution\n",
    "\n",
    "### 5. Walk through your algorithm\n",
    "Know exactly what you're going to do before coding\n",
    "don't code prematurely\n",
    "80% understanding of what you're doing is not enough\n",
    "Ask these questions:\n",
    "\n",
    "1. what variables and datastructures?\n",
    "2. How, when, why do they change?\n",
    "3. What is the structure of your code?\n",
    "\n",
    "\n"
   ]
  }
 ],
 "metadata": {
  "kernelspec": {
   "display_name": "Python 3",
   "language": "python",
   "name": "python3"
  },
  "language_info": {
   "codemirror_mode": {
    "name": "ipython",
    "version": 3
   },
   "file_extension": ".py",
   "mimetype": "text/x-python",
   "name": "python",
   "nbconvert_exporter": "python",
   "pygments_lexer": "ipython3",
   "version": "3.7.6"
  }
 },
 "nbformat": 4,
 "nbformat_minor": 4
}
