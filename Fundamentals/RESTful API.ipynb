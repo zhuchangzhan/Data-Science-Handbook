{
 "cells": [
  {
   "cell_type": "markdown",
   "metadata": {},
   "source": [
    "# Example REST API Codes in python\n",
    "\n",
    "Utilizing &name=<name> for query"
   ]
  },
  {
   "cell_type": "markdown",
   "metadata": {},
   "source": [
    "## Number of drawn matches"
   ]
  },
  {
   "cell_type": "code",
   "execution_count": 2,
   "metadata": {},
   "outputs": [],
   "source": [
    "import requests\n",
    "\n",
    "def getNumDraws(year):\n",
    "    # Write your code here\n",
    "    total_pages = 196\n",
    "    most_goal = 10\n",
    "    \n",
    "    total_match = 0\n",
    "    for i in range(11):\n",
    "    \n",
    "        url = \"https://jsonmock.hackerrank.com/api/football_matches?year=%s&page=1&team1goals=%s&team2goals=%s\"%(year,i,i)\n",
    "        \n",
    "        data = requests.get(url).json()\n",
    "        \n",
    "        total_match += int(data[\"total\"])\n",
    "    \n",
    "    return total_match"
   ]
  },
  {
   "cell_type": "markdown",
   "metadata": {},
   "source": [
    "## Finding the total number of goals scored by the winning team for given competitiona dnyear\n",
    "\n",
    "First identify the winner, then extract the total number of goals per match for the winner, return the total"
   ]
  },
  {
   "cell_type": "code",
   "execution_count": 3,
   "metadata": {},
   "outputs": [],
   "source": [
    "import requests\n",
    "\n",
    "    \n",
    "def get_winner(competition, year):\n",
    "    base = \"https://jsonmock.hackerrank.com/api/football_competitions\"\n",
    "    comp_url = base+\"?name=%s&year=%s\"%(competition,year)\n",
    "    data = requests.get(comp_url).json()\n",
    "    return data[\"data\"][0][\"winner\"] # could be more than 1 here?\n",
    "\n",
    "def get_team_match_total_page(competition,year,winner):\n",
    "    base = \"https://jsonmock.hackerrank.com/api/football_matches\"\n",
    "    match_url1 = base+\"?competition=%s&year=%s&team1=%s\"%(competition,year,winner)\n",
    "    data = requests.get(match_url1).json()\n",
    "    return data[\"total_pages\"]\n",
    "\n",
    "def get_team_match_goals(competition,year,winner,page,pos):\n",
    "    base = \"https://jsonmock.hackerrank.com/api/football_matches\"\n",
    "    match_url1 = base+\"?competition=%s&year=%s&team%s=%s&page=%s\"%(competition,year,pos,winner,page)\n",
    "    data = requests.get(match_url1).json()\n",
    "    return sum([int(x[\"team%sgoals\"%pos]) for x in data[\"data\"]])\n",
    "    \n",
    "def getWinnerTotalGoals(competition, year):\n",
    "    # Write your code here\n",
    "\n",
    "    winner = get_winner(competition, year)\n",
    "    total_page = get_team_match_total_page(competition,year,winner)\n",
    "    total_goals = 0\n",
    "    for page in range(1,total_page+1):\n",
    "        total_goals += get_team_match_goals(competition,year,winner,page,1)\n",
    "        total_goals += get_team_match_goals(competition,year,winner,page,2)\n",
    "        \n",
    "    return total_goals"
   ]
  },
  {
   "cell_type": "code",
   "execution_count": null,
   "metadata": {},
   "outputs": [],
   "source": []
  }
 ],
 "metadata": {
  "kernelspec": {
   "display_name": "Python 3",
   "language": "python",
   "name": "python3"
  },
  "language_info": {
   "codemirror_mode": {
    "name": "ipython",
    "version": 3
   },
   "file_extension": ".py",
   "mimetype": "text/x-python",
   "name": "python",
   "nbconvert_exporter": "python",
   "pygments_lexer": "ipython3",
   "version": "3.7.6"
  }
 },
 "nbformat": 4,
 "nbformat_minor": 4
}
