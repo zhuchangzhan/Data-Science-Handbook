{
 "cells": [
  {
   "cell_type": "markdown",
   "metadata": {},
   "source": [
    "# Summary of Common Machine Learning Methods\n",
    "\n",
    "\n",
    "## Regression\n",
    "\n",
    "## Clustering\n",
    "\n",
    "## Classification\n",
    "\n",
    "## Dimension Reduction"
   ]
  },
  {
   "cell_type": "markdown",
   "metadata": {},
   "source": [
    "### Random Forest\n",
    "\n",
    "increase in the depth of tree it will cause overfitting. \n",
    "Increase in the number of tree will cause under fitting.\n",
    "\n",
    "Learning rate is not an hyperparameter in random forest. "
   ]
  }
 ],
 "metadata": {
  "kernelspec": {
   "display_name": "Python 3",
   "language": "python",
   "name": "python3"
  },
  "language_info": {
   "codemirror_mode": {
    "name": "ipython",
    "version": 3
   },
   "file_extension": ".py",
   "mimetype": "text/x-python",
   "name": "python",
   "nbconvert_exporter": "python",
   "pygments_lexer": "ipython3",
   "version": "3.7.6"
  }
 },
 "nbformat": 4,
 "nbformat_minor": 4
}
