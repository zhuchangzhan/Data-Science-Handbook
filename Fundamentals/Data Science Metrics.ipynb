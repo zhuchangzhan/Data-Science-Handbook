{
 "cells": [
  {
   "cell_type": "markdown",
   "metadata": {},
   "source": [
    "# Model Evaluation Metrics\n",
    "\n",
    "***Data Science: Using data to make decisions***\n",
    "\n",
    "\n",
    "## Data Science Workflow\n",
    "\n",
    "### Start with a Question\n",
    "\n",
    "### Get and Clean Data\n",
    "\n",
    "### Perform EDA (scatter plot, correlation, outlier)\n",
    "\n",
    "### Apply Techniques\n",
    "\n",
    "### Share Insights\n"
   ]
  },
  {
   "cell_type": "markdown",
   "metadata": {},
   "source": [
    "## Bias vs Variance\n",
    "\n",
    "### Bias\n",
    "\n",
    "High bias: under-fitting\n",
    "\n",
    "### Variance\n",
    "\n",
    "High variance: over-fitting\n",
    "\n",
    "\n",
    "\n",
    "## Regularization\n",
    "\n",
    "### L1 \n",
    "\n",
    "### L2\n",
    "\n",
    "\n",
    "\n",
    "\n",
    "\n",
    "## Mean Square Error\n",
    "\n",
    "the number of views of articles is the continuous target variable which fall under the regression problem. So, mean squared error will be used as an evaluation metrics.\n",
    "\n",
    "## Accuracy\n",
    "\n",
    "## F1 Score"
   ]
  },
  {
   "cell_type": "markdown",
   "metadata": {},
   "source": [
    "## Model Entropy\n",
    "\n",
    "$-\\sum p(x)*log(p(x))$\n"
   ]
  },
  {
   "cell_type": "code",
   "execution_count": null,
   "metadata": {},
   "outputs": [],
   "source": []
  }
 ],
 "metadata": {
  "kernelspec": {
   "display_name": "Python 3",
   "language": "python",
   "name": "python3"
  },
  "language_info": {
   "codemirror_mode": {
    "name": "ipython",
    "version": 3
   },
   "file_extension": ".py",
   "mimetype": "text/x-python",
   "name": "python",
   "nbconvert_exporter": "python",
   "pygments_lexer": "ipython3",
   "version": "3.7.6"
  }
 },
 "nbformat": 4,
 "nbformat_minor": 4
}
